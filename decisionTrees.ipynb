{
 "cells": [
  {
   "cell_type": "markdown",
   "metadata": {},
   "source": [
    "### Decision Trees"
   ]
  },
  {
   "cell_type": "markdown",
   "metadata": {},
   "source": [
    "#### Preprocessing"
   ]
  },
  {
   "cell_type": "code",
   "execution_count": 1,
   "metadata": {},
   "outputs": [],
   "source": [
    "import numpy as np\n",
    "import pandas as pd "
   ]
  },
  {
   "cell_type": "code",
   "execution_count": 2,
   "metadata": {},
   "outputs": [],
   "source": [
    "df = pd.read_csv('titanic.csv')"
   ]
  },
  {
   "cell_type": "code",
   "execution_count": 3,
   "metadata": {},
   "outputs": [
    {
     "data": {
      "text/html": [
       "<div>\n",
       "<style scoped>\n",
       "    .dataframe tbody tr th:only-of-type {\n",
       "        vertical-align: middle;\n",
       "    }\n",
       "\n",
       "    .dataframe tbody tr th {\n",
       "        vertical-align: top;\n",
       "    }\n",
       "\n",
       "    .dataframe thead th {\n",
       "        text-align: right;\n",
       "    }\n",
       "</style>\n",
       "<table border=\"1\" class=\"dataframe\">\n",
       "  <thead>\n",
       "    <tr style=\"text-align: right;\">\n",
       "      <th></th>\n",
       "      <th>PassengerId</th>\n",
       "      <th>Survived</th>\n",
       "      <th>Pclass</th>\n",
       "      <th>Name</th>\n",
       "      <th>Sex</th>\n",
       "      <th>Age</th>\n",
       "      <th>SibSp</th>\n",
       "      <th>Parch</th>\n",
       "      <th>Ticket</th>\n",
       "      <th>Fare</th>\n",
       "      <th>Cabin</th>\n",
       "      <th>Embarked</th>\n",
       "    </tr>\n",
       "  </thead>\n",
       "  <tbody>\n",
       "    <tr>\n",
       "      <td>0</td>\n",
       "      <td>1</td>\n",
       "      <td>0</td>\n",
       "      <td>3</td>\n",
       "      <td>Braund, Mr. Owen Harris</td>\n",
       "      <td>male</td>\n",
       "      <td>22.0</td>\n",
       "      <td>1</td>\n",
       "      <td>0</td>\n",
       "      <td>A/5 21171</td>\n",
       "      <td>7.2500</td>\n",
       "      <td>NaN</td>\n",
       "      <td>S</td>\n",
       "    </tr>\n",
       "    <tr>\n",
       "      <td>1</td>\n",
       "      <td>2</td>\n",
       "      <td>1</td>\n",
       "      <td>1</td>\n",
       "      <td>Cumings, Mrs. John Bradley (Florence Briggs Th...</td>\n",
       "      <td>female</td>\n",
       "      <td>38.0</td>\n",
       "      <td>1</td>\n",
       "      <td>0</td>\n",
       "      <td>PC 17599</td>\n",
       "      <td>71.2833</td>\n",
       "      <td>C85</td>\n",
       "      <td>C</td>\n",
       "    </tr>\n",
       "    <tr>\n",
       "      <td>2</td>\n",
       "      <td>3</td>\n",
       "      <td>1</td>\n",
       "      <td>3</td>\n",
       "      <td>Heikkinen, Miss. Laina</td>\n",
       "      <td>female</td>\n",
       "      <td>26.0</td>\n",
       "      <td>0</td>\n",
       "      <td>0</td>\n",
       "      <td>STON/O2. 3101282</td>\n",
       "      <td>7.9250</td>\n",
       "      <td>NaN</td>\n",
       "      <td>S</td>\n",
       "    </tr>\n",
       "    <tr>\n",
       "      <td>3</td>\n",
       "      <td>4</td>\n",
       "      <td>1</td>\n",
       "      <td>1</td>\n",
       "      <td>Futrelle, Mrs. Jacques Heath (Lily May Peel)</td>\n",
       "      <td>female</td>\n",
       "      <td>35.0</td>\n",
       "      <td>1</td>\n",
       "      <td>0</td>\n",
       "      <td>113803</td>\n",
       "      <td>53.1000</td>\n",
       "      <td>C123</td>\n",
       "      <td>S</td>\n",
       "    </tr>\n",
       "    <tr>\n",
       "      <td>4</td>\n",
       "      <td>5</td>\n",
       "      <td>0</td>\n",
       "      <td>3</td>\n",
       "      <td>Allen, Mr. William Henry</td>\n",
       "      <td>male</td>\n",
       "      <td>35.0</td>\n",
       "      <td>0</td>\n",
       "      <td>0</td>\n",
       "      <td>373450</td>\n",
       "      <td>8.0500</td>\n",
       "      <td>NaN</td>\n",
       "      <td>S</td>\n",
       "    </tr>\n",
       "  </tbody>\n",
       "</table>\n",
       "</div>"
      ],
      "text/plain": [
       "   PassengerId  Survived  Pclass  \\\n",
       "0            1         0       3   \n",
       "1            2         1       1   \n",
       "2            3         1       3   \n",
       "3            4         1       1   \n",
       "4            5         0       3   \n",
       "\n",
       "                                                Name     Sex   Age  SibSp  \\\n",
       "0                            Braund, Mr. Owen Harris    male  22.0      1   \n",
       "1  Cumings, Mrs. John Bradley (Florence Briggs Th...  female  38.0      1   \n",
       "2                             Heikkinen, Miss. Laina  female  26.0      0   \n",
       "3       Futrelle, Mrs. Jacques Heath (Lily May Peel)  female  35.0      1   \n",
       "4                           Allen, Mr. William Henry    male  35.0      0   \n",
       "\n",
       "   Parch            Ticket     Fare Cabin Embarked  \n",
       "0      0         A/5 21171   7.2500   NaN        S  \n",
       "1      0          PC 17599  71.2833   C85        C  \n",
       "2      0  STON/O2. 3101282   7.9250   NaN        S  \n",
       "3      0            113803  53.1000  C123        S  \n",
       "4      0            373450   8.0500   NaN        S  "
      ]
     },
     "execution_count": 3,
     "metadata": {},
     "output_type": "execute_result"
    }
   ],
   "source": [
    "df.head()"
   ]
  },
  {
   "cell_type": "code",
   "execution_count": 4,
   "metadata": {},
   "outputs": [
    {
     "name": "stdout",
     "output_type": "stream",
     "text": [
      "<class 'pandas.core.frame.DataFrame'>\n",
      "RangeIndex: 891 entries, 0 to 890\n",
      "Data columns (total 12 columns):\n",
      "PassengerId    891 non-null int64\n",
      "Survived       891 non-null int64\n",
      "Pclass         891 non-null int64\n",
      "Name           891 non-null object\n",
      "Sex            891 non-null object\n",
      "Age            714 non-null float64\n",
      "SibSp          891 non-null int64\n",
      "Parch          891 non-null int64\n",
      "Ticket         891 non-null object\n",
      "Fare           891 non-null float64\n",
      "Cabin          204 non-null object\n",
      "Embarked       889 non-null object\n",
      "dtypes: float64(2), int64(5), object(5)\n",
      "memory usage: 83.7+ KB\n"
     ]
    }
   ],
   "source": [
    "df.info()"
   ]
  },
  {
   "cell_type": "code",
   "execution_count": 5,
   "metadata": {},
   "outputs": [],
   "source": [
    "col_to_remove = ['PassengerId','Name','Ticket','Cabin','Embarked']"
   ]
  },
  {
   "cell_type": "code",
   "execution_count": 6,
   "metadata": {},
   "outputs": [],
   "source": [
    "data_clean = df.drop(col_to_remove,axis = 1)"
   ]
  },
  {
   "cell_type": "code",
   "execution_count": 7,
   "metadata": {},
   "outputs": [
    {
     "name": "stdout",
     "output_type": "stream",
     "text": [
      "     Survived  Pclass     Sex   Age  SibSp  Parch     Fare\n",
      "0           0       3    male  22.0      1      0   7.2500\n",
      "1           1       1  female  38.0      1      0  71.2833\n",
      "2           1       3  female  26.0      0      0   7.9250\n",
      "3           1       1  female  35.0      1      0  53.1000\n",
      "4           0       3    male  35.0      0      0   8.0500\n",
      "..        ...     ...     ...   ...    ...    ...      ...\n",
      "886         0       2    male  27.0      0      0  13.0000\n",
      "887         1       1  female  19.0      0      0  30.0000\n",
      "888         0       3  female   NaN      1      2  23.4500\n",
      "889         1       1    male  26.0      0      0  30.0000\n",
      "890         0       3    male  32.0      0      0   7.7500\n",
      "\n",
      "[891 rows x 7 columns]\n"
     ]
    }
   ],
   "source": [
    "print(data_clean)"
   ]
  },
  {
   "cell_type": "code",
   "execution_count": 143,
   "metadata": {},
   "outputs": [],
   "source": [
    "from sklearn.preprocessing import LabelEncoder\n",
    "le = LabelEncoder()"
   ]
  },
  {
   "cell_type": "code",
   "execution_count": 144,
   "metadata": {},
   "outputs": [],
   "source": [
    "data_clean[\"Sex\"] = le.fit_transform(data_clean[\"Sex\"])"
   ]
  },
  {
   "cell_type": "code",
   "execution_count": 145,
   "metadata": {},
   "outputs": [
    {
     "name": "stdout",
     "output_type": "stream",
     "text": [
      "   Survived  Pclass  Sex   Age  SibSp  Parch     Fare\n",
      "0         0       3    1  22.0      1      0   7.2500\n",
      "1         1       1    0  38.0      1      0  71.2833\n",
      "2         1       3    0  26.0      0      0   7.9250\n",
      "3         1       1    0  35.0      1      0  53.1000\n",
      "4         0       3    1  35.0      0      0   8.0500\n"
     ]
    }
   ],
   "source": [
    "print(data_clean.head())"
   ]
  },
  {
   "cell_type": "code",
   "execution_count": 146,
   "metadata": {},
   "outputs": [],
   "source": [
    "#dataImputation\n",
    "data_clean[\"Age\"] = data_clean[\"Age\"].fillna(data_clean[\"Age\"].mean()) "
   ]
  },
  {
   "cell_type": "code",
   "execution_count": 147,
   "metadata": {},
   "outputs": [
    {
     "name": "stdout",
     "output_type": "stream",
     "text": [
      "   Survived  Pclass  Sex   Age  SibSp  Parch     Fare\n",
      "0         0       3    1  22.0      1      0   7.2500\n",
      "1         1       1    0  38.0      1      0  71.2833\n",
      "2         1       3    0  26.0      0      0   7.9250\n",
      "3         1       1    0  35.0      1      0  53.1000\n",
      "4         0       3    1  35.0      0      0   8.0500\n",
      "Survived     0.00\n",
      "Pclass       3.00\n",
      "Sex          1.00\n",
      "Age         22.00\n",
      "SibSp        1.00\n",
      "Parch        0.00\n",
      "Fare         7.25\n",
      "Name: 0, dtype: float64\n"
     ]
    }
   ],
   "source": [
    "print(data_clean.head())\n",
    "print(data_clean.loc[0])\n",
    "x_data = data_clean"
   ]
  },
  {
   "cell_type": "code",
   "execution_count": 148,
   "metadata": {},
   "outputs": [],
   "source": [
    "input_cols = ['Pclass','Sex','Age','SibSp','Parch','Fare']\n",
    "output_cols = ['Survived']\n",
    "X = data_clean[input_cols]\n",
    "Y = data_clean[output_cols]"
   ]
  },
  {
   "cell_type": "code",
   "execution_count": 149,
   "metadata": {},
   "outputs": [
    {
     "name": "stdout",
     "output_type": "stream",
     "text": [
      "(891, 6) (891, 1)\n",
      "<class 'pandas.core.frame.DataFrame'>\n",
      "<class 'pandas.core.series.Series'>\n"
     ]
    }
   ],
   "source": [
    "print(X.shape,Y.shape)\n",
    "print(type(x_data))\n",
    "print(type(x_data.Survived))"
   ]
  },
  {
   "cell_type": "code",
   "execution_count": null,
   "metadata": {},
   "outputs": [],
   "source": []
  },
  {
   "cell_type": "markdown",
   "metadata": {},
   "source": [
    "#### Algorithm"
   ]
  },
  {
   "cell_type": "code",
   "execution_count": 150,
   "metadata": {},
   "outputs": [],
   "source": [
    "#entropy\n",
    "def entropy(col):\n",
    "    elements = np.unique(col,return_counts = \"True\")\n",
    "    n = col.shape[0]\n",
    "    etr = 0\n",
    "    for i in elements[1]:\n",
    "        pi = i/n\n",
    "        etr += (-1*pi*np.log2(pi))\n",
    "        \n",
    "    return etr"
   ]
  },
  {
   "cell_type": "code",
   "execution_count": 151,
   "metadata": {},
   "outputs": [
    {
     "name": "stdout",
     "output_type": "stream",
     "text": [
      "1.0\n"
     ]
    }
   ],
   "source": [
    "c = np.array([0,1,0,0,1,0,1,1])\n",
    "print(entropy(c))"
   ]
  },
  {
   "cell_type": "code",
   "execution_count": 152,
   "metadata": {},
   "outputs": [],
   "source": [
    "#node -> 2 children node\n",
    "def divide(x_data,fkey,fval):\n",
    "    left_data = pd.DataFrame([],columns=x_data.columns)\n",
    "    right_data = pd.DataFrame([],columns=x_data.columns)\n",
    "    for idx in range(x_data.shape[0]):\n",
    "        if x_data.loc[idx][fkey] < fval:                 \n",
    "            left_data = left_data.append(x_data.loc[idx])\n",
    "        else:\n",
    "            right_data = right_data.append(x_data.loc[idx])\n",
    "    left_data = left_data.reset_index(drop = \"True\")\n",
    "    right_data = right_data.reset_index(drop = \"True\")\n",
    "\n",
    "    return left_data,right_data\n",
    "    "
   ]
  },
  {
   "cell_type": "code",
   "execution_count": 153,
   "metadata": {},
   "outputs": [
    {
     "name": "stdout",
     "output_type": "stream",
     "text": [
      "   Survived  Pclass  Sex   Age  SibSp  Parch     Fare\n",
      "0       1.0     1.0  0.0  38.0    1.0    0.0  71.2833\n",
      "1       1.0     3.0  0.0  26.0    0.0    0.0   7.9250\n",
      "2       1.0     1.0  0.0  35.0    1.0    0.0  53.1000\n",
      "3       1.0     3.0  0.0  27.0    0.0    2.0  11.1333\n",
      "4       1.0     2.0  0.0  14.0    1.0    0.0  30.0708 \n",
      "\n",
      "    Survived  Pclass  Sex        Age  SibSp  Parch     Fare\n",
      "0       0.0     3.0  1.0  22.000000    1.0    0.0   7.2500\n",
      "1       0.0     3.0  1.0  35.000000    0.0    0.0   8.0500\n",
      "2       0.0     3.0  1.0  29.699118    0.0    0.0   8.4583\n",
      "3       0.0     1.0  1.0  54.000000    0.0    0.0  51.8625\n",
      "4       0.0     3.0  1.0   2.000000    3.0    1.0  21.0750\n"
     ]
    }
   ],
   "source": [
    "left_data,right_data = divide(x_data,'Sex',x_data['Sex'].mean())\n",
    "print(left_data.head(),\"\\n\\n\",right_data.head())"
   ]
  },
  {
   "cell_type": "code",
   "execution_count": 154,
   "metadata": {},
   "outputs": [],
   "source": [
    "#infoGain\n",
    "def info_gain(x_data,fkey):\n",
    "    fval = x_data[fkey].mean()\n",
    "    left_data,right_data = divide(x_data,fkey,fval)\n",
    "    \n",
    "    l = float(left_data.shape[0]/x_data.shape[0])\n",
    "    r = float(right_data.shape[0]/x_data.shape[0])\n",
    "    etr_node = entropy(np.array(x_data.Survived))\n",
    "    etr_left = entropy(np.array(left_data.Survived))\n",
    "    etr_right = entropy(np.array(right_data.Survived))\n",
    "    \n",
    "    if left_data.shape[0] == 0 or right_data.shape[0] == 0:\n",
    "        return -1000000\n",
    "    i_gain = etr_node - (l*etr_left + r*etr_right)\n",
    "    \n",
    "    return i_gain\n",
    "    "
   ]
  },
  {
   "cell_type": "code",
   "execution_count": 155,
   "metadata": {},
   "outputs": [
    {
     "name": "stdout",
     "output_type": "stream",
     "text": [
      "0.07579362743608165\n",
      "0.2176601066606142\n",
      "0.001158644038169343\n",
      "0.009584541813400071\n",
      "0.015380754493137694\n",
      "0.042140692838995464\n"
     ]
    }
   ],
   "source": [
    "for ix in X.columns:\n",
    "    print(info_gain(x_data,ix))\n"
   ]
  },
  {
   "cell_type": "code",
   "execution_count": null,
   "metadata": {},
   "outputs": [],
   "source": []
  },
  {
   "cell_type": "code",
   "execution_count": 167,
   "metadata": {},
   "outputs": [],
   "source": [
    "class DecisionTree:\n",
    "    def __init__ (self,depth = 0,max_depth = 5):       #Attributes a particular node stores.\n",
    "        self.left = None\n",
    "        self.right = None\n",
    "        self.fkey = None\n",
    "        self.fval = None\n",
    "        self.depth = depth\n",
    "        self.max_depth = max_depth\n",
    "        self.target = None\n",
    "        \n",
    "    def train(self,x_data):\n",
    "        i_gain = []\n",
    "        for f in x_data.columns[1:]:\n",
    "            i_gain.append(info_gain(x_data,f))\n",
    "        self.fkey = x_data.columns[np.argmax(i_gain)+1]\n",
    "        self.fval = x_data[fkey].mean()\n",
    "        \n",
    "        left_data,right_data = divide(x_data,self.fkey,self.fval)\n",
    "        print(\"created nodes about current node \",fkey,'\\n')\n",
    "        #node truly a leaf\n",
    "        if left_data.shape[0] == 0 or right_data.shape[0] == 0:       #possible only when all values of that featur are equal.\n",
    "            if x_data.Survived.mean() > 0.5:\n",
    "                self.target = 'Survived'\n",
    "            else:\n",
    "                self.target = 'Died'\n",
    "            return\n",
    "        \n",
    "        #countering Overfitting\n",
    "        if self.depth > self.max_depth:\n",
    "            if x_data.Survived.mean() > 0.5:\n",
    "                self.target = 'Survived'\n",
    "            else:\n",
    "                self.target = 'Died'\n",
    "            return\n",
    "        \n",
    "        #Recursive Case\n",
    "        self.left = DecisionTree(depth = self.depth+1,max_depth = self.max_depth)    #Attempt without max_depth parameter\n",
    "        self.left.train(left_data)\n",
    "        self.right = DecisionTree(depth = self.depth+1,max_depth = self.max_depth)    #Attempt without max_depth parameter\n",
    "        self.right.train(right_data)\n",
    "        \n",
    "        if x_data.Survived.mean() > 0.5:\n",
    "            self.target = 'Survived'\n",
    "        else:\n",
    "            self.target = 'Died'\n",
    "        return\n",
    "    \n",
    "    def predict(self,test):\n",
    "        if test[self.fkey] > self.fval:\n",
    "        #go right\n",
    "            if self.right == None:\n",
    "                return self.target\n",
    "            else:\n",
    "                return self.right.predict(test)\n",
    "        else:\n",
    "            if self.left == None:\n",
    "                return self.target\n",
    "            else:\n",
    "                return self.left.predict(test)\n"
   ]
  },
  {
   "cell_type": "code",
   "execution_count": 168,
   "metadata": {},
   "outputs": [
    {
     "name": "stdout",
     "output_type": "stream",
     "text": [
      "created nodes about current node  Sex \n",
      "\n",
      "created nodes about current node  Sex \n",
      "\n",
      "created nodes about current node  Sex \n",
      "\n",
      "created nodes about current node  Sex \n",
      "\n",
      "created nodes about current node  Sex \n",
      "\n"
     ]
    }
   ],
   "source": [
    "#Training\n",
    "dt = DecisionTree()\n",
    "dt.train(x_data)"
   ]
  },
  {
   "cell_type": "code",
   "execution_count": 169,
   "metadata": {},
   "outputs": [
    {
     "data": {
      "text/plain": [
       "'Survived'"
      ]
     },
     "execution_count": 169,
     "metadata": {},
     "output_type": "execute_result"
    }
   ],
   "source": [
    "#prediction\n",
    "dt.predict(x_data.loc[2])"
   ]
  },
  {
   "cell_type": "code",
   "execution_count": 162,
   "metadata": {},
   "outputs": [],
   "source": [
    "from sklearn.preprocessing import LabelEncoder"
   ]
  },
  {
   "cell_type": "code",
   "execution_count": 163,
   "metadata": {},
   "outputs": [],
   "source": [
    "#Accuracy Computaion\n",
    "def score(x_train,x_test):\n",
    "    dt = DecisionTree()\n",
    "    dt.train(x_train)\n",
    "    y_pred = []\n",
    "    for i in range(x_test.shape[0]):\n",
    "        y_pred.append(dt.predict(x_test.loc[i]))\n",
    "    le = LabelEncoder()\n",
    "    y_pred = le.fit_transform(y_pred)\n",
    "    y_act = np.array(x_test.Survived)\n",
    "    \n",
    "    cp = sum(y_pred == y_act)\n",
    "    \n",
    "    return cp/x_test.shape[0]\n",
    "    "
   ]
  },
  {
   "cell_type": "code",
   "execution_count": 164,
   "metadata": {},
   "outputs": [],
   "source": [
    "n = x_data.shape[0]\n",
    "t = int(0.7*n)"
   ]
  },
  {
   "cell_type": "code",
   "execution_count": 165,
   "metadata": {},
   "outputs": [],
   "source": [
    "x_train = x_data[:t]\n",
    "x_test = x_data[t:]\n",
    "x_test = x_test.reset_index(drop = 'True')"
   ]
  },
  {
   "cell_type": "code",
   "execution_count": 166,
   "metadata": {},
   "outputs": [
    {
     "name": "stdout",
     "output_type": "stream",
     "text": [
      "created nodes about current node  Sex \n",
      "\n",
      "created nodes about current node  Sex \n",
      "\n",
      "created nodes about current node  Sex \n",
      "\n",
      "created nodes about current node  Sex \n",
      "\n",
      "created nodes about current node  Sex \n",
      "\n",
      "0.7798507462686567\n"
     ]
    }
   ],
   "source": [
    "print(score(x_train,x_test))"
   ]
  },
  {
   "cell_type": "code",
   "execution_count": null,
   "metadata": {},
   "outputs": [],
   "source": []
  },
  {
   "cell_type": "code",
   "execution_count": null,
   "metadata": {},
   "outputs": [],
   "source": []
  },
  {
   "cell_type": "code",
   "execution_count": null,
   "metadata": {},
   "outputs": [],
   "source": []
  },
  {
   "cell_type": "code",
   "execution_count": null,
   "metadata": {},
   "outputs": [],
   "source": []
  },
  {
   "cell_type": "code",
   "execution_count": null,
   "metadata": {},
   "outputs": [],
   "source": []
  }
 ],
 "metadata": {
  "kernelspec": {
   "display_name": "Python 3",
   "language": "python",
   "name": "python3"
  },
  "language_info": {
   "codemirror_mode": {
    "name": "ipython",
    "version": 3
   },
   "file_extension": ".py",
   "mimetype": "text/x-python",
   "name": "python",
   "nbconvert_exporter": "python",
   "pygments_lexer": "ipython3",
   "version": "3.7.4"
  }
 },
 "nbformat": 4,
 "nbformat_minor": 2
}
