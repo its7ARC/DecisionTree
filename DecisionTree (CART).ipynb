{
 "cells": [
  {
   "cell_type": "markdown",
   "metadata": {},
   "source": [
    "### Decision Tree (CART Algorithm)"
   ]
  },
  {
   "cell_type": "code",
   "execution_count": null,
   "metadata": {},
   "outputs": [],
   "source": []
  },
  {
   "cell_type": "markdown",
   "metadata": {},
   "source": [
    "### Imports"
   ]
  },
  {
   "cell_type": "code",
   "execution_count": 162,
   "metadata": {},
   "outputs": [],
   "source": [
    "import numpy as np\n",
    "import pandas as pd\n",
    "import matplotlib.pyplot as plt"
   ]
  },
  {
   "cell_type": "code",
   "execution_count": null,
   "metadata": {},
   "outputs": [],
   "source": []
  },
  {
   "cell_type": "markdown",
   "metadata": {},
   "source": [
    "### Formulating Dataset\n",
    "- Titanic survior (Dataset source - Kaggle)"
   ]
  },
  {
   "cell_type": "code",
   "execution_count": 163,
   "metadata": {},
   "outputs": [
    {
     "data": {
      "text/html": [
       "<div>\n",
       "<style scoped>\n",
       "    .dataframe tbody tr th:only-of-type {\n",
       "        vertical-align: middle;\n",
       "    }\n",
       "\n",
       "    .dataframe tbody tr th {\n",
       "        vertical-align: top;\n",
       "    }\n",
       "\n",
       "    .dataframe thead th {\n",
       "        text-align: right;\n",
       "    }\n",
       "</style>\n",
       "<table border=\"1\" class=\"dataframe\">\n",
       "  <thead>\n",
       "    <tr style=\"text-align: right;\">\n",
       "      <th></th>\n",
       "      <th>PassengerId</th>\n",
       "      <th>Survived</th>\n",
       "      <th>Pclass</th>\n",
       "      <th>Name</th>\n",
       "      <th>Sex</th>\n",
       "      <th>Age</th>\n",
       "      <th>SibSp</th>\n",
       "      <th>Parch</th>\n",
       "      <th>Ticket</th>\n",
       "      <th>Fare</th>\n",
       "      <th>Cabin</th>\n",
       "      <th>Embarked</th>\n",
       "    </tr>\n",
       "  </thead>\n",
       "  <tbody>\n",
       "    <tr>\n",
       "      <th>0</th>\n",
       "      <td>1</td>\n",
       "      <td>0</td>\n",
       "      <td>3</td>\n",
       "      <td>Braund, Mr. Owen Harris</td>\n",
       "      <td>male</td>\n",
       "      <td>22.0</td>\n",
       "      <td>1</td>\n",
       "      <td>0</td>\n",
       "      <td>A/5 21171</td>\n",
       "      <td>7.2500</td>\n",
       "      <td>NaN</td>\n",
       "      <td>S</td>\n",
       "    </tr>\n",
       "    <tr>\n",
       "      <th>1</th>\n",
       "      <td>2</td>\n",
       "      <td>1</td>\n",
       "      <td>1</td>\n",
       "      <td>Cumings, Mrs. John Bradley (Florence Briggs Th...</td>\n",
       "      <td>female</td>\n",
       "      <td>38.0</td>\n",
       "      <td>1</td>\n",
       "      <td>0</td>\n",
       "      <td>PC 17599</td>\n",
       "      <td>71.2833</td>\n",
       "      <td>C85</td>\n",
       "      <td>C</td>\n",
       "    </tr>\n",
       "    <tr>\n",
       "      <th>2</th>\n",
       "      <td>3</td>\n",
       "      <td>1</td>\n",
       "      <td>3</td>\n",
       "      <td>Heikkinen, Miss. Laina</td>\n",
       "      <td>female</td>\n",
       "      <td>26.0</td>\n",
       "      <td>0</td>\n",
       "      <td>0</td>\n",
       "      <td>STON/O2. 3101282</td>\n",
       "      <td>7.9250</td>\n",
       "      <td>NaN</td>\n",
       "      <td>S</td>\n",
       "    </tr>\n",
       "    <tr>\n",
       "      <th>3</th>\n",
       "      <td>4</td>\n",
       "      <td>1</td>\n",
       "      <td>1</td>\n",
       "      <td>Futrelle, Mrs. Jacques Heath (Lily May Peel)</td>\n",
       "      <td>female</td>\n",
       "      <td>35.0</td>\n",
       "      <td>1</td>\n",
       "      <td>0</td>\n",
       "      <td>113803</td>\n",
       "      <td>53.1000</td>\n",
       "      <td>C123</td>\n",
       "      <td>S</td>\n",
       "    </tr>\n",
       "    <tr>\n",
       "      <th>4</th>\n",
       "      <td>5</td>\n",
       "      <td>0</td>\n",
       "      <td>3</td>\n",
       "      <td>Allen, Mr. William Henry</td>\n",
       "      <td>male</td>\n",
       "      <td>35.0</td>\n",
       "      <td>0</td>\n",
       "      <td>0</td>\n",
       "      <td>373450</td>\n",
       "      <td>8.0500</td>\n",
       "      <td>NaN</td>\n",
       "      <td>S</td>\n",
       "    </tr>\n",
       "  </tbody>\n",
       "</table>\n",
       "</div>"
      ],
      "text/plain": [
       "   PassengerId  Survived  Pclass  \\\n",
       "0            1         0       3   \n",
       "1            2         1       1   \n",
       "2            3         1       3   \n",
       "3            4         1       1   \n",
       "4            5         0       3   \n",
       "\n",
       "                                                Name     Sex   Age  SibSp  \\\n",
       "0                            Braund, Mr. Owen Harris    male  22.0      1   \n",
       "1  Cumings, Mrs. John Bradley (Florence Briggs Th...  female  38.0      1   \n",
       "2                             Heikkinen, Miss. Laina  female  26.0      0   \n",
       "3       Futrelle, Mrs. Jacques Heath (Lily May Peel)  female  35.0      1   \n",
       "4                           Allen, Mr. William Henry    male  35.0      0   \n",
       "\n",
       "   Parch            Ticket     Fare Cabin Embarked  \n",
       "0      0         A/5 21171   7.2500   NaN        S  \n",
       "1      0          PC 17599  71.2833   C85        C  \n",
       "2      0  STON/O2. 3101282   7.9250   NaN        S  \n",
       "3      0            113803  53.1000  C123        S  \n",
       "4      0            373450   8.0500   NaN        S  "
      ]
     },
     "execution_count": 163,
     "metadata": {},
     "output_type": "execute_result"
    }
   ],
   "source": [
    "df = pd.read_csv('train.csv')\n",
    "df.head()"
   ]
  },
  {
   "cell_type": "code",
   "execution_count": 164,
   "metadata": {},
   "outputs": [],
   "source": [
    "y_train = df[df.columns[1:2]]\n",
    "x_train = df[['Pclass','Sex','Age','Parch','Fare']]"
   ]
  },
  {
   "cell_type": "code",
   "execution_count": 165,
   "metadata": {},
   "outputs": [
    {
     "name": "stdout",
     "output_type": "stream",
     "text": [
      "   Survived\n",
      "0         0\n",
      "1         1\n",
      "2         1\n",
      "3         1\n",
      "4         0\n",
      "   Pclass     Sex   Age  Parch     Fare\n",
      "0       3    male  22.0      0   7.2500\n",
      "1       1  female  38.0      0  71.2833\n",
      "2       3  female  26.0      0   7.9250\n",
      "3       1  female  35.0      0  53.1000\n",
      "4       3    male  35.0      0   8.0500\n"
     ]
    }
   ],
   "source": [
    "print(y_train.head())\n",
    "print(x_train.head())"
   ]
  },
  {
   "cell_type": "code",
   "execution_count": 166,
   "metadata": {},
   "outputs": [],
   "source": [
    "from sklearn import preprocessing\n",
    "le = preprocessing.LabelEncoder()"
   ]
  },
  {
   "cell_type": "code",
   "execution_count": 167,
   "metadata": {},
   "outputs": [
    {
     "name": "stdout",
     "output_type": "stream",
     "text": [
      "   Pclass  Sex   Age  Parch     Fare\n",
      "0       3    1  22.0      0   7.2500\n",
      "1       1    0  38.0      0  71.2833\n",
      "2       3    0  26.0      0   7.9250\n",
      "3       1    0  35.0      0  53.1000\n",
      "4       3    1  35.0      0   8.0500\n"
     ]
    },
    {
     "name": "stderr",
     "output_type": "stream",
     "text": [
      "<ipython-input-167-30c6641e5f83>:1: SettingWithCopyWarning: \n",
      "A value is trying to be set on a copy of a slice from a DataFrame.\n",
      "Try using .loc[row_indexer,col_indexer] = value instead\n",
      "\n",
      "See the caveats in the documentation: https://pandas.pydata.org/pandas-docs/stable/user_guide/indexing.html#returning-a-view-versus-a-copy\n",
      "  x_train[\"Sex\"] = le.fit_transform(x_train[\"Sex\"])\n"
     ]
    }
   ],
   "source": [
    "x_train[\"Sex\"] = le.fit_transform(x_train[\"Sex\"])\n",
    "print(x_train.head())"
   ]
  },
  {
   "cell_type": "code",
   "execution_count": null,
   "metadata": {},
   "outputs": [],
   "source": []
  },
  {
   "cell_type": "markdown",
   "metadata": {},
   "source": [
    "### Analysing Dataset"
   ]
  },
  {
   "cell_type": "code",
   "execution_count": 168,
   "metadata": {},
   "outputs": [
    {
     "data": {
      "text/html": [
       "<div>\n",
       "<style scoped>\n",
       "    .dataframe tbody tr th:only-of-type {\n",
       "        vertical-align: middle;\n",
       "    }\n",
       "\n",
       "    .dataframe tbody tr th {\n",
       "        vertical-align: top;\n",
       "    }\n",
       "\n",
       "    .dataframe thead th {\n",
       "        text-align: right;\n",
       "    }\n",
       "</style>\n",
       "<table border=\"1\" class=\"dataframe\">\n",
       "  <thead>\n",
       "    <tr style=\"text-align: right;\">\n",
       "      <th></th>\n",
       "      <th>Pclass</th>\n",
       "      <th>Sex</th>\n",
       "      <th>Age</th>\n",
       "      <th>Parch</th>\n",
       "      <th>Fare</th>\n",
       "      <th>Survived</th>\n",
       "    </tr>\n",
       "  </thead>\n",
       "  <tbody>\n",
       "    <tr>\n",
       "      <th>0</th>\n",
       "      <td>3</td>\n",
       "      <td>1</td>\n",
       "      <td>22.0</td>\n",
       "      <td>0</td>\n",
       "      <td>7.2500</td>\n",
       "      <td>0</td>\n",
       "    </tr>\n",
       "    <tr>\n",
       "      <th>1</th>\n",
       "      <td>1</td>\n",
       "      <td>0</td>\n",
       "      <td>38.0</td>\n",
       "      <td>0</td>\n",
       "      <td>71.2833</td>\n",
       "      <td>1</td>\n",
       "    </tr>\n",
       "    <tr>\n",
       "      <th>2</th>\n",
       "      <td>3</td>\n",
       "      <td>0</td>\n",
       "      <td>26.0</td>\n",
       "      <td>0</td>\n",
       "      <td>7.9250</td>\n",
       "      <td>1</td>\n",
       "    </tr>\n",
       "    <tr>\n",
       "      <th>3</th>\n",
       "      <td>1</td>\n",
       "      <td>0</td>\n",
       "      <td>35.0</td>\n",
       "      <td>0</td>\n",
       "      <td>53.1000</td>\n",
       "      <td>1</td>\n",
       "    </tr>\n",
       "    <tr>\n",
       "      <th>4</th>\n",
       "      <td>3</td>\n",
       "      <td>1</td>\n",
       "      <td>35.0</td>\n",
       "      <td>0</td>\n",
       "      <td>8.0500</td>\n",
       "      <td>0</td>\n",
       "    </tr>\n",
       "  </tbody>\n",
       "</table>\n",
       "</div>"
      ],
      "text/plain": [
       "   Pclass  Sex   Age  Parch     Fare  Survived\n",
       "0       3    1  22.0      0   7.2500         0\n",
       "1       1    0  38.0      0  71.2833         1\n",
       "2       3    0  26.0      0   7.9250         1\n",
       "3       1    0  35.0      0  53.1000         1\n",
       "4       3    1  35.0      0   8.0500         0"
      ]
     },
     "execution_count": 168,
     "metadata": {},
     "output_type": "execute_result"
    }
   ],
   "source": [
    "plt.style.use('seaborn')\n",
    "df = x_train\n",
    "df.insert(len(x_train.columns),\"Survived\",y_train,True)\n",
    "df.head()"
   ]
  },
  {
   "cell_type": "code",
   "execution_count": 169,
   "metadata": {},
   "outputs": [
    {
     "data": {
      "image/png": "[encoded data removed]",
      "text/plain": [
       "<Figure size 576x396 with 1 Axes>"
      ]
     },
     "metadata": {},
     "output_type": "display_data"
    }
   ],
   "source": [
    "plt.title('Fraction Survived')\n",
    "plt.scatter(1,df.loc[df['Survived'] == 1].shape[0] / df.shape[0], color = 'green')\n",
    "plt.scatter(0,df.loc[df['Survived'] == 0].shape[0] / df.shape[0], color = 'red')\n",
    "plt.show()"
   ]
  },
  {
   "cell_type": "code",
   "execution_count": null,
   "metadata": {},
   "outputs": [],
   "source": []
  },
  {
   "cell_type": "markdown",
   "metadata": {},
   "source": [
    "#### Passanger Class"
   ]
  },
  {
   "cell_type": "code",
   "execution_count": 170,
   "metadata": {},
   "outputs": [
    {
     "data": {
      "image/png": "[encoded data removed]",
      "text/plain": [
       "<Figure size 576x396 with 1 Axes>"
      ]
     },
     "metadata": {},
     "output_type": "display_data"
    },
    {
     "data": {
      "image/png": "[encoded data removed]",
      "text/plain": [
       "<Figure size 576x396 with 1 Axes>"
      ]
     },
     "metadata": {},
     "output_type": "display_data"
    }
   ],
   "source": [
    "plt.title('PClass')\n",
    "plt.hist(x_train[\"Pclass\"])\n",
    "plt.show()\n",
    "\n",
    "plt.title(\"Fraction surivived\")\n",
    "for i in range(1,4):\n",
    "    temp = df.loc[df[\"Pclass\"] == i]\n",
    "    tot = temp.shape[0]\n",
    "    temp = temp.loc[temp[\"Survived\"] == 1]\n",
    "    try: frac = temp.shape[0]/tot\n",
    "    except: frac = 0\n",
    "    plt.scatter(i,frac,color = 'green')\n",
    "plt.show()"
   ]
  },
  {
   "cell_type": "code",
   "execution_count": null,
   "metadata": {},
   "outputs": [],
   "source": []
  },
  {
   "cell_type": "markdown",
   "metadata": {},
   "source": [
    "#### Sex"
   ]
  },
  {
   "cell_type": "code",
   "execution_count": 171,
   "metadata": {},
   "outputs": [
    {
     "data": {
      "image/png": "[encoded data removed]",
      "text/plain": [
       "<Figure size 576x396 with 1 Axes>"
      ]
     },
     "metadata": {},
     "output_type": "display_data"
    },
    {
     "data": {
      "image/png": "[encoded data removed]",
      "text/plain": [
       "<Figure size 576x396 with 1 Axes>"
      ]
     },
     "metadata": {},
     "output_type": "display_data"
    }
   ],
   "source": [
    "plt.title(\"Sex\")\n",
    "plt.hist(x_train[\"Sex\"])\n",
    "plt.show()\n",
    "\n",
    "plt.title(\"Fraction surivived\")\n",
    "for i in range(0,2):\n",
    "    temp = df.loc[df[\"Sex\"] == i]\n",
    "    tot = temp.shape[0]\n",
    "    temp = temp.loc[temp[\"Survived\"] == 1]\n",
    "    try: frac = temp.shape[0]/tot\n",
    "    except: frac = 0\n",
    "    plt.scatter(i,frac, color = 'green')\n",
    "plt.show()"
   ]
  },
  {
   "cell_type": "code",
   "execution_count": null,
   "metadata": {},
   "outputs": [],
   "source": []
  },
  {
   "cell_type": "markdown",
   "metadata": {},
   "source": [
    "#### Age"
   ]
  },
  {
   "cell_type": "code",
   "execution_count": 172,
   "metadata": {},
   "outputs": [
    {
     "data": {
      "image/png": "[encoded data removed]",
      "text/plain": [
       "<Figure size 576x396 with 1 Axes>"
      ]
     },
     "metadata": {},
     "output_type": "display_data"
    },
    {
     "data": {
      "image/png": "[encoded data removed]",
      "text/plain": [
       "<Figure size 576x396 with 1 Axes>"
      ]
     },
     "metadata": {},
     "output_type": "display_data"
    }
   ],
   "source": [
    "plt.title(\"Age\")\n",
    "plt.hist(x_train['Age'], bins = 16)\n",
    "plt.show()\n",
    "\n",
    "plt.title(\"Fraction surivived\")\n",
    "for i in range(0,80,5):\n",
    "    temp = df.loc[df[\"Age\"] < 5+i]\n",
    "    temp = temp.loc[temp[\"Age\"] > i]\n",
    "    tot = temp.shape[0]\n",
    "    temp = temp.loc[temp[\"Survived\"] == 1]\n",
    "    try: \n",
    "        frac = temp.shape[0]/tot\n",
    "        plt.scatter(i,frac, color = \"Green\")\n",
    "    except: pass\n",
    "plt.show()"
   ]
  },
  {
   "cell_type": "code",
   "execution_count": null,
   "metadata": {},
   "outputs": [],
   "source": []
  },
  {
   "cell_type": "markdown",
   "metadata": {},
   "source": [
    "#### Parent/Children"
   ]
  },
  {
   "cell_type": "code",
   "execution_count": 173,
   "metadata": {},
   "outputs": [
    {
     "data": {
      "image/png": "[encoded data removed]",
      "text/plain": [
       "<Figure size 576x396 with 1 Axes>"
      ]
     },
     "metadata": {},
     "output_type": "display_data"
    },
    {
     "data": {
      "image/png": "[encoded data removed]",
      "text/plain": [
       "<Figure size 576x396 with 1 Axes>"
      ]
     },
     "metadata": {},
     "output_type": "display_data"
    }
   ],
   "source": [
    "plt.title(\"Passanger Parent/Children\")\n",
    "plt.hist(x_train[\"Parch\"], bins = 6)\n",
    "plt.show()\n",
    "\n",
    "plt.title(\"Fraction surivived\")\n",
    "for i in range(0,6,1):\n",
    "    temp = df.loc[df[\"Parch\"] == i]\n",
    "    tot = temp.shape[0]\n",
    "    temp = temp.loc[temp[\"Survived\"] == 1]\n",
    "    cnt = temp.shape[0]\n",
    "    plt.scatter(i, cnt/tot, color = \"green\")"
   ]
  },
  {
   "cell_type": "code",
   "execution_count": null,
   "metadata": {},
   "outputs": [],
   "source": []
  },
  {
   "cell_type": "markdown",
   "metadata": {},
   "source": [
    "#### Fare"
   ]
  },
  {
   "cell_type": "code",
   "execution_count": 174,
   "metadata": {},
   "outputs": [
    {
     "data": {
      "image/png": "[encoded data removed]",
      "text/plain": [
       "<Figure size 576x396 with 1 Axes>"
      ]
     },
     "metadata": {},
     "output_type": "display_data"
    },
    {
     "data": {
      "image/png": "[encoded data removed]",
      "text/plain": [
       "<Figure size 576x396 with 1 Axes>"
      ]
     },
     "metadata": {},
     "output_type": "display_data"
    }
   ],
   "source": [
    "plt.title(\"Fare\")\n",
    "plt.hist(x_train[\"Fare\"], bins = 20)\n",
    "plt.show()\n",
    "\n",
    "plt.title(\"Fraction surivived\")\n",
    "for i in range(0,550,50):\n",
    "    temp = df.loc[df[\"Fare\"] > i]\n",
    "    temp = temp.loc[temp[\"Fare\"] < i + 50]\n",
    "    tot = temp.shape[0]\n",
    "    temp = temp.loc[temp[\"Survived\"] == 1]\n",
    "    try: \n",
    "        frac = temp.shape[0]/tot\n",
    "        plt.scatter(i,frac, color = \"green\")\n",
    "    except: pass\n",
    "plt.show()"
   ]
  },
  {
   "cell_type": "code",
   "execution_count": null,
   "metadata": {},
   "outputs": [],
   "source": []
  },
  {
   "cell_type": "markdown",
   "metadata": {},
   "source": [
    "###  Decision Tree"
   ]
  },
  {
   "cell_type": "code",
   "execution_count": null,
   "metadata": {},
   "outputs": [],
   "source": []
  },
  {
   "cell_type": "markdown",
   "metadata": {},
   "source": [
    "#### Tree Construction"
   ]
  },
  {
   "cell_type": "code",
   "execution_count": 258,
   "metadata": {},
   "outputs": [],
   "source": [
    "# Node of Tree\n",
    "class Node:\n",
    "    def __init__(self):\n",
    "        self.feature = None\n",
    "        self.left = None\n",
    "        self.right = None\n",
    "        self.prection = False"
   ]
  },
  {
   "cell_type": "code",
   "execution_count": 257,
   "metadata": {},
   "outputs": [],
   "source": [
    "# Decision Tree \n",
    "class DecisionTree:\n",
    "    def __init__(self):\n",
    "        self.root = Node()\n",
    "        \n",
    "    # Splitting dataframe in accordance with feature constraints\n",
    "    def split_node(self, df, feature):\n",
    "        if(feature == 'Pclass'):\n",
    "            df_left = df.loc[df[feature] == 1]\n",
    "            df_right = df.loc[df[feature] != 1]\n",
    "            return df_left, df_right\n",
    "        if(feature == 'Sex'):\n",
    "            df_left = df.loc[df[feature] == 0]\n",
    "            df_right = df.loc[df[feature] == 1]\n",
    "            return df_left, df_right\n",
    "        if(feature == 'Age'):\n",
    "            df_left = df.loc[df[feature] <= 5]\n",
    "            df_right = df.loc[df[feature] > 5]\n",
    "            return df_left, df_right\n",
    "        if(feature == 'Parch'):\n",
    "            df_left = df.loc[df[feature] == 0]\n",
    "            df_right = df.loc[df[feature] != 0]\n",
    "            return df_left, df_right\n",
    "        if(feature == 'Fare'):\n",
    "            df_left = df.loc[df[feature] < 50]\n",
    "            df_right = df.loc[df[feature] >= 50]\n",
    "            return df_left, df_right\n",
    "    \n",
    "    #Gini Impurity computation for a particular feature\n",
    "    def gini_impurity(self, df, feature):\n",
    "        lchild, rchild = self.split_node(df,feature)\n",
    "        try:\n",
    "            #left child Gini impurity\n",
    "            lwt = lchild.shape[0]/df.shape[0]\n",
    "            probab_sur = lchild.loc[lchild['Survived'] == 1].shape[0]/lchild.shape[0]\n",
    "            probab_die = lchild.loc[lchild['Survived'] == 1].shape[0]/lchild.shape[0]\n",
    "            left_gini_imp = lwt*(1 - probab_sur**2 - probab_die**2)\n",
    "\n",
    "            ##right child Gini imppurity\n",
    "            rwt = rchild.shape[0]/df.shape[0]\n",
    "            probab_sur = rchild.loc[rchild['Survived'] == 1].shape[0]/rchild.shape[0]\n",
    "            probab_die = rchild.loc[rchild['Survived'] == 0].shape[0]/rchild.shape[0]\n",
    "            right_gini_imp = rwt*(1 - probab_sur**2 - probab_die**2)\n",
    "    \n",
    "            # Weighted sum of gini impurities from left and right child nodes\n",
    "            tot_gini_imp = left_gini_imp + right_gini_imp\n",
    "            return tot_gini_imp\n",
    "        \n",
    "        except: return 1\n",
    "    \n",
    "    #Maximum gini index for node\n",
    "    def gini_index(self, df):\n",
    "        if(df.shape[0] == 0): return 0,None\n",
    "        \n",
    "        # Selection of feature with minimum gini impurity\n",
    "        min_gini_impurity = 1\n",
    "        min_gi_feature = None\n",
    "        for feature in df.columns.drop('Survived'):\n",
    "            gi = self.gini_impurity(df,feature)\n",
    "            if(gi < min_gini_impurity):\n",
    "                min_gini_impurity = gi\n",
    "                min_gi_feature = feature\n",
    "        \n",
    "        try:\n",
    "            #Gini Impurity of current node before split\n",
    "            probab_sur = df.loc[df['Survived'] == 1].shape[0]/df.shape[0]\n",
    "            probab_die = df.loc[df['Survived'] == 0].shape[0]/df.shape[0]\n",
    "            gimp_curr = 1 - probab_sur**2 - probab_die**2\n",
    "            \n",
    "            #Gini index for current node split about feature with min gini impurity\n",
    "            gindex = gimp_curr - min_gini_impurity\n",
    "            return gindex, min_gi_feature\n",
    "        \n",
    "        except: return 0, min_gi_feature\n",
    "    \n",
    "    #Building tree\n",
    "    def build(self,df,node,idx):\n",
    "        #Corner Cases\n",
    "        #No entry left in dataframe\n",
    "        if(df.shape[0] == 0): return node\n",
    "        #No feature left for splitting\n",
    "        if(df.shape[1] == 1):\n",
    "            node.prediction = bool(df.loc[df['Survived'] == 1].shape[0] > df.loc[df['Survived'] == 0].shape[0]) \n",
    "            return node\n",
    "        \n",
    "        #Defining Node properties\n",
    "        node.prediction = bool(df.loc[df['Survived'] == 1].shape[0] > df.loc[df['Survived'] == 0].shape[0]) \n",
    "        gindex, split_feature = self.gini_index(df)\n",
    "        node.feature = split_feature\n",
    "        print(idx,node.feature, gindex, node.prediction)\n",
    "        \n",
    "        #Splitting dataframe for child nodes and recursive call for tree building\n",
    "        if(split_feature):\n",
    "            df_left, df_right = self.split_node(df,split_feature)\n",
    "            df_left = df_left[df_left.columns.drop(split_feature)]\n",
    "            df_right = df_right[df_right.columns.drop(split_feature)]\n",
    "\n",
    "            if(df_left.columns.shape[0] > 0 and gindex > 0):\n",
    "                left = Node()\n",
    "                right = Node()\n",
    "                node.left = self.build(df_left, left, 2*idx+1)\n",
    "                node.right = self.build(df_right, right, 2*idx+2)\n",
    "        return node\n",
    "    \n",
    "    # External fn. call for building tree\n",
    "    def build_tree(self,df,idx):\n",
    "        self.root = self.build(df,self.root,0)\n",
    "    \n",
    "    # Choosing relevant child node in accordance with data entry feature value\n",
    "    def rel_child(self,val,feature):\n",
    "        if(feature == 'Pclass'):\n",
    "            if(val == 1): return 0\n",
    "            else: return 1\n",
    "        if(feature == 'Sex'):\n",
    "            if(val == 0): return 0\n",
    "            else: return 1\n",
    "        if(feature == 'Age'):\n",
    "            if(val <= 5): return 0\n",
    "            else: return 1\n",
    "        if(feature == 'Parch'):\n",
    "            if(val == 0): return 0\n",
    "            else: return 1\n",
    "        if(feature == 'Fare'):\n",
    "            if(val < 50): return 0\n",
    "            else: return 1\n",
    "    \n",
    "    #Tree traversal for a data entry\n",
    "    def traverse_tree(self,x_test,node,idx):\n",
    "        if(node.left == None): return node.prediction\n",
    "        \n",
    "        feature = node.feature\n",
    "        dirn = self.rel_child(x_test[feature], feature)\n",
    "        \n",
    "        if(dirn == 0): return self.traverse_tree(x_test,node.left, 2*idx+1)\n",
    "        else: return self.traverse_tree(x_test,node.right, 2*idx+2)\n",
    "    \n",
    "    #Prediction for output class\n",
    "    def predict(self,x_test):\n",
    "        y_pred = []\n",
    "        for i in range(x_test.shape[0]):\n",
    "            pred = self.traverse_tree(x_test.iloc[i],self.root,0)\n",
    "            y_pred.append(pred)\n",
    "        return y_pred\n",
    "            \n",
    "    # Model accuracy evaluation\n",
    "    def evaluate(self,x_test, y_test):\n",
    "        y_pred = self.predict(x_test)\n",
    "        y_pred = np.array(y_pred)\n",
    "        y_test = np.array(y_test)\n",
    "        return np.sum(y_pred == y_test)/y_test.shape[0]"
   ]
  },
  {
   "cell_type": "code",
   "execution_count": null,
   "metadata": {},
   "outputs": [],
   "source": []
  },
  {
   "cell_type": "markdown",
   "metadata": {},
   "source": [
    "#### Initialising Decision Tree"
   ]
  },
  {
   "cell_type": "code",
   "execution_count": 249,
   "metadata": {},
   "outputs": [],
   "source": [
    "model = DecisionTree()"
   ]
  },
  {
   "cell_type": "markdown",
   "metadata": {},
   "source": [
    "#### Building Tree"
   ]
  },
  {
   "cell_type": "markdown",
   "metadata": {},
   "source": [
    "Root node index -> 0\n",
    "\n",
    "For parent node 'i'\n",
    "- Left child node index -> 2*i + 1\n",
    "- Right child node index -> 2*i + 2"
   ]
  },
  {
   "cell_type": "code",
   "execution_count": 250,
   "metadata": {},
   "outputs": [
    {
     "name": "stdout",
     "output_type": "stream",
     "text": [
      "0 Sex 0.31024279473435623 False\n",
      "1 Parch 0.3637157791614195 True\n",
      "3 Pclass 0.35730277169158836 True\n",
      "7 Fare 0.11235894097222221 True\n",
      "15 None -0.8024691358024691 True\n",
      "16 None -1.0 True\n",
      "8 Age 0.10552268244575924 True\n",
      "17 None -1.0 True\n",
      "18 None -0.5555555555555556 True\n",
      "4 Pclass 0.26407407407407407 True\n",
      "9 Fare 0.10098765432098765 True\n",
      "19 None -1.0 True\n",
      "20 Age 0.02902606310013711 True\n",
      "10 Age 0.21587394411955835 True\n",
      "21 None -0.6675900277008311 True\n",
      "22 Fare 0.1453065134099616 True\n",
      "2 Age 0.07916969856731451 False\n",
      "5 Fare 0.24043568277972813 True\n",
      "11 None -0.528344671201814 True\n",
      "12 None -1.0 True\n",
      "6 Pclass -0.02897275239738456 False\n"
     ]
    }
   ],
   "source": [
    "root = model.build_tree(df,0)\n",
    "# Node format - {Node index, Split Feature, Gini Index, Prediction class}"
   ]
  },
  {
   "cell_type": "code",
   "execution_count": null,
   "metadata": {},
   "outputs": [],
   "source": []
  },
  {
   "cell_type": "markdown",
   "metadata": {},
   "source": [
    "#### Testing model performance"
   ]
  },
  {
   "cell_type": "code",
   "execution_count": 254,
   "metadata": {},
   "outputs": [],
   "source": [
    "df_test = df.sample(frac = 0.2)\n",
    "x_test = df_test[df_test.columns.drop('Survived')]\n",
    "y_test = df_test['Survived']"
   ]
  },
  {
   "cell_type": "code",
   "execution_count": 255,
   "metadata": {},
   "outputs": [
    {
     "data": {
      "text/plain": [
       "0.8426966292134831"
      ]
     },
     "execution_count": 255,
     "metadata": {},
     "output_type": "execute_result"
    }
   ],
   "source": [
    "model.evaluate(x_test,y_test)"
   ]
  },
  {
   "cell_type": "markdown",
   "metadata": {},
   "source": [
    "84.2% Accuracy"
   ]
  },
  {
   "cell_type": "code",
   "execution_count": null,
   "metadata": {},
   "outputs": [],
   "source": []
  },
  {
   "cell_type": "markdown",
   "metadata": {},
   "source": [
    "#### Analysing Prediction"
   ]
  },
  {
   "cell_type": "code",
   "execution_count": 256,
   "metadata": {},
   "outputs": [
    {
     "name": "stdout",
     "output_type": "stream",
     "text": [
      "[True, True, True, False, False, False, True, False, False, True, False, False, True, True, True, False, False, False, False, False, False, True, False, False, True, False, True, False, False, False, False, False, False, False, True, False, False, False, True, False, True, False, True, True, True, False, True, False, True, True, False, False, False, True, False, False, True, True, False, True, False, False, False, False, True, False, False, False, False, False, True, True, True, False, False, True, False, True, False, False, False, True, True, False, False, True, False, False, True, True, False, True, False, False, True, True, True, True, False, True, False, True, False, True, True, False, True, False, True, False, False, True, False, False, False, False, True, False, False, False, False, False, False, False, True, True, False, False, True, False, False, False, False, False, False, False, False, False, True, True, False, True, True, False, False, False, False, False, False, False, False, False, True, True, False, False, True, False, False, True, True, True, True, True, False, True, False, True, True, False, False, True, True, True, True, False, True, False]\n"
     ]
    }
   ],
   "source": [
    "y_pred = model.predict(x_test)\n",
    "print(y_pred)"
   ]
  },
  {
   "cell_type": "code",
   "execution_count": null,
   "metadata": {},
   "outputs": [],
   "source": []
  },
  {
   "cell_type": "code",
   "execution_count": null,
   "metadata": {},
   "outputs": [],
   "source": []
  },
  {
   "cell_type": "code",
   "execution_count": null,
   "metadata": {},
   "outputs": [],
   "source": []
  }
 ],
 "metadata": {
  "kernelspec": {
   "display_name": "Python 3",
   "language": "python",
   "name": "python3"
  },
  "language_info": {
   "codemirror_mode": {
    "name": "ipython",
    "version": 3
   },
   "file_extension": ".py",
   "mimetype": "text/x-python",
   "name": "python",
   "nbconvert_exporter": "python",
   "pygments_lexer": "ipython3",
   "version": "3.8.5"
  }
 },
 "nbformat": 4,
 "nbformat_minor": 4
}
